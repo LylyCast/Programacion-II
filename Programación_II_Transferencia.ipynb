{
  "nbformat": 4,
  "nbformat_minor": 0,
  "metadata": {
    "colab": {
      "provenance": [],
      "authorship_tag": "ABX9TyPXGLvu/TNK0q4o9V2Pengg",
      "include_colab_link": true
    },
    "kernelspec": {
      "name": "python3",
      "display_name": "Python 3"
    },
    "language_info": {
      "name": "python"
    }
  },
  "cells": [
    {
      "cell_type": "markdown",
      "metadata": {
        "id": "view-in-github",
        "colab_type": "text"
      },
      "source": [
        "<a href=\"https://colab.research.google.com/github/LylyCast/Programacion-II/blob/main/Programaci%C3%B3n_II_Transferencia.ipynb\" target=\"_parent\"><img src=\"https://colab.research.google.com/assets/colab-badge.svg\" alt=\"Open In Colab\"/></a>"
      ]
    },
    {
      "cell_type": "markdown",
      "source": [
        "Programación para ciencia de datos II\n",
        "Grupo: 2314-5a\n",
        "\n",
        "Actividad de Transferencia\n",
        "\n",
        "Lyda Liliana Suárez Castillo\n",
        "\n",
        "Docente Sebastián Rodríguez Muñoz\n",
        "\n",
        "Fecha de Entrega 28 Sept 2025"
      ],
      "metadata": {
        "id": "pKv7WW0qfyMK"
      }
    },
    {
      "cell_type": "markdown",
      "source": [
        "# Análisis del modelo\n",
        "\n",
        "En la etapa de profundización se generó la Pregunta:\n",
        "\n",
        "Relación entre la Temperatura y el Consumo de Energía.\n",
        "\n",
        "**H 0: No existe una relación significativa entre la temperatura y el consumo de energía en la zona 1.**\n",
        "\n",
        "**H 1: Existe una relación significativa entre la temperatura y el consumo de energía.**\n",
        "\n",
        "Se realiza una regresión lineal para analizar la relación entre la temperatura (variable independiente) y el consumo de energía (variable dependiente). Los resultados que se muestran son los siguientes:\n",
        "\n",
        "***Pendiente (slope): 539.7704***\n",
        "Este valor indica que por cada unidad que aumenta la temperatura (ejemplo 1 grado) el consumo de energía aumenta en 539.7704 unidades. En otras palabras, existe una relación positiva entre ambas variables.\n",
        "\n",
        "***Intercepción (intercept): 22191.8759***\n",
        "Este es el valor del consumo de energía cuando la temperatura es cero. En el contexto de este problema, puede ser interpretado como el consumo base de energía cuando la temperatura no tiene un efecto directo, aunque su interpretación es más teórica que práctica en muchos casos.\n",
        "\n",
        "***Coeficiente de correlación (r-value): 0.4402***\n",
        "Coeficiente de Pearson, mide la fuerza y la dirección de la relación lineal entre las dos variables.\n",
        "\n",
        "**Dirección:** El 0.4402 indica una correlación positiva indica que a medida que la temperatura aumenta, el consumo de energía tiende a aumentar también.\n",
        "\n",
        "**Fuerza:** El valor 0.4402 sugiere una correlación positiva moderada. Cuanto más cerca esté este valor de 1 (o -1), más fuerte es la relación lineal.\n",
        "Hay una relación, pero no es tan fuerte. Esto implica que la temperatura no es el único factor que influye en el consumo de energía.\n",
        "\n",
        "***P-valor (p-value): 0.00000000***\n",
        "El p-valor nos determinar la significancia estadística, el p-valor es prácticamente cero (pag=0.0000000000).\n",
        "\n",
        "Dado que el p-valor es mucho menor que el nivel de significancia común de 0.05, su pudo rechazar la hipótesis nula (H 0 ): No existe una relación significativa entre la temperatura y el consumo de energía en la zona 1.\n",
        "\n",
        "El resultado sugiere que la relación entre la temperatura y el consumo de energía no es el resultado del azar y es estadísticamente significativa.\n",
        "\n",
        "***Error estándar (std_err): 4.8088***\n",
        "El error estándar de la pendiente mide la precisión de la estimación de la pendiente. Un valor más bajo indica una estimación más precisa. Se utiliza para construir intervalos de confianza y para las pruebas de hipótesis.\n",
        "\n",
        "La regresión lineal simple, planteada busca  relación entre la temperatura y el consumo de energía.\n",
        "**texto en negrita**\n",
        "El  gráfico de dispersión (scatter plot) muestra una relación lineal positiva, pero la dispersión de los puntos indica que la temperatura no es el único factor.\n",
        "\n",
        "Lo que permite identifucar que regresión lineal simple no es suficiente."
      ],
      "metadata": {
        "id": "XO5mjqvDBJWc"
      }
    },
    {
      "cell_type": "code",
      "source": [
        "import pandas as pd"
      ],
      "metadata": {
        "id": "vEoaSOxRf4i0"
      },
      "execution_count": 1,
      "outputs": []
    },
    {
      "cell_type": "code",
      "source": [
        "import kagglehub\n",
        "\n",
        "# Download latest version\n",
        "path = kagglehub.dataset_download(\"fedesoriano/electric-power-consumption\")\n",
        "\n",
        "print(\"Path to dataset files:\", path)"
      ],
      "metadata": {
        "colab": {
          "base_uri": "https://localhost:8080/",
          "height": 0
        },
        "id": "ZLplGAmgmOgb",
        "outputId": "9d65385f-04db-4d3a-92f4-8d48a803f935"
      },
      "execution_count": 2,
      "outputs": [
        {
          "output_type": "stream",
          "name": "stdout",
          "text": [
            "Downloading from https://www.kaggle.com/api/v1/datasets/download/fedesoriano/electric-power-consumption?dataset_version_number=1...\n"
          ]
        },
        {
          "output_type": "stream",
          "name": "stderr",
          "text": [
            "100%|██████████| 1.36M/1.36M [00:00<00:00, 15.2MB/s]"
          ]
        },
        {
          "output_type": "stream",
          "name": "stdout",
          "text": [
            "Extracting files...\n",
            "Path to dataset files: /root/.cache/kagglehub/datasets/fedesoriano/electric-power-consumption/versions/1\n"
          ]
        },
        {
          "output_type": "stream",
          "name": "stderr",
          "text": [
            "\n"
          ]
        }
      ]
    },
    {
      "cell_type": "code",
      "metadata": {
        "colab": {
          "base_uri": "https://localhost:8080/",
          "height": 0
        },
        "id": "c3a89e3e",
        "outputId": "018bc42d-3909-4ab8-ca52-c1462fcd7ece"
      },
      "source": [
        "df = pd.read_csv(path + '/powerconsumption.csv')\n",
        "df.info()"
      ],
      "execution_count": 3,
      "outputs": [
        {
          "output_type": "stream",
          "name": "stdout",
          "text": [
            "<class 'pandas.core.frame.DataFrame'>\n",
            "RangeIndex: 52416 entries, 0 to 52415\n",
            "Data columns (total 9 columns):\n",
            " #   Column                  Non-Null Count  Dtype  \n",
            "---  ------                  --------------  -----  \n",
            " 0   Datetime                52416 non-null  object \n",
            " 1   Temperature             52416 non-null  float64\n",
            " 2   Humidity                52416 non-null  float64\n",
            " 3   WindSpeed               52416 non-null  float64\n",
            " 4   GeneralDiffuseFlows     52416 non-null  float64\n",
            " 5   DiffuseFlows            52416 non-null  float64\n",
            " 6   PowerConsumption_Zone1  52416 non-null  float64\n",
            " 7   PowerConsumption_Zone2  52416 non-null  float64\n",
            " 8   PowerConsumption_Zone3  52416 non-null  float64\n",
            "dtypes: float64(8), object(1)\n",
            "memory usage: 3.6+ MB\n"
          ]
        }
      ]
    },
    {
      "cell_type": "code",
      "source": [
        "import pandas as pd\n",
        "from sklearn.model_selection import train_test_split\n",
        "from sklearn.linear_model import LinearRegression\n",
        "from sklearn.metrics import mean_squared_error, r2_score\n",
        "\n",
        "# Conversión de la columna 'Datetime' a formato de fecha y hora\n",
        "df['Datetime'] = pd.to_datetime(df['Datetime'])\n",
        "\n",
        "# Creación de variables de tiempo (ingeniería de características)\n",
        "df['Month'] = df['Datetime'].dt.month\n",
        "df['DayOfWeek'] = df['Datetime'].dt.dayofweek\n",
        "df['Hour'] = df['Datetime'].dt.hour\n",
        "df['Season'] = (df['Month'] % 12 + 3) // 3 # Simple forma de categorizar estaciones\n",
        "\n",
        "# Creación de variables dummy para las categorías (si es necesario)\n",
        "df = pd.get_dummies(df, columns=['DayOfWeek', 'Season'], drop_first=True)"
      ],
      "metadata": {
        "id": "vSfT_P25DchL"
      },
      "execution_count": 4,
      "outputs": []
    },
    {
      "cell_type": "markdown",
      "source": [
        "#Definición del modelo\n",
        "Selección de variables que se utilizaran para predecir el consumo de energía (PowerConsumption_Zone1)."
      ],
      "metadata": {
        "id": "Ht7D9Y7tD49M"
      }
    },
    {
      "cell_type": "code",
      "source": [
        "# Definición de las variables predictoras (X) y la variable objetivo (y)\n",
        "features = ['Temperature', 'Humidity', 'WindSpeed', 'Month', 'Hour']\n",
        "# Incluye las nuevas variables dummy\n",
        "features.extend([col for col in df.columns if 'DayOfWeek_' in col or 'Season_' in col])\n",
        "\n",
        "X = df[features]\n",
        "y = df['PowerConsumption_Zone1']\n",
        "\n",
        "# División de los datos en conjuntos de entrenamiento y prueba\n",
        "X_train, X_test, y_train, y_test = train_test_split(X, y, test_size=0.2, random_state=42)\n",
        "\n",
        "# Creación y entrenamiento del modelo de regresión lineal\n",
        "model = LinearRegression()\n",
        "model.fit(X_train, y_train)\n",
        "\n",
        "# Realización de predicciones en el conjunto de prueba\n",
        "y_pred = model.predict(X_test)"
      ],
      "metadata": {
        "id": "KJpT8icLEFMD"
      },
      "execution_count": 5,
      "outputs": []
    },
    {
      "cell_type": "markdown",
      "source": [
        "#Evaluación del modelo\n",
        "Se evalua el rendimiento del modelo usando métricas comunes como el Error Cuadrático Medio (MSE) y el Coeficiente de Determinación (R 2)."
      ],
      "metadata": {
        "id": "dheM7s7eEWXV"
      }
    },
    {
      "cell_type": "code",
      "source": [
        "# Evaluación del modelo\n",
        "mse = mean_squared_error(y_test, y_pred)\n",
        "r2 = r2_score(y_test, y_pred)\n",
        "\n",
        "print(f\"Variables utilizadas en el modelo: {features}\")\n",
        "print(f\"Error Cuadrático Medio (MSE): {mse:.2f}\")\n",
        "print(f\"Coeficiente de Determinación (R^2): {r2:.2f}\")\n",
        "\n",
        "# Opcional: Coeficientes del modelo\n",
        "# Estos valores indican el impacto de cada variable en la predicción\n",
        "print(\"\\nCoeficientes del modelo:\")\n",
        "for feature, coef in zip(features, model.coef_):\n",
        "    print(f\"{feature}: {coef:.4f}\")"
      ],
      "metadata": {
        "colab": {
          "base_uri": "https://localhost:8080/",
          "height": 0
        },
        "id": "qw3QnpVuEXOE",
        "outputId": "acac6928-f95e-4b46-8f30-4dd77fa274a9"
      },
      "execution_count": 6,
      "outputs": [
        {
          "output_type": "stream",
          "name": "stdout",
          "text": [
            "Variables utilizadas en el modelo: ['Temperature', 'Humidity', 'WindSpeed', 'Month', 'Hour', 'DayOfWeek_1', 'DayOfWeek_2', 'DayOfWeek_3', 'DayOfWeek_4', 'DayOfWeek_5', 'DayOfWeek_6', 'Season_2', 'Season_3', 'Season_4']\n",
            "Error Cuadrático Medio (MSE): 17622216.05\n",
            "Coeficiente de Determinación (R^2): 0.65\n",
            "\n",
            "Coeficientes del modelo:\n",
            "Temperature: 344.2388\n",
            "Humidity: 11.8445\n",
            "WindSpeed: 34.4224\n",
            "Month: -219.1713\n",
            "Hour: 700.7741\n",
            "DayOfWeek_1: 96.4822\n",
            "DayOfWeek_2: 190.5702\n",
            "DayOfWeek_3: 210.5262\n",
            "DayOfWeek_4: -323.0492\n",
            "DayOfWeek_5: -274.2865\n",
            "DayOfWeek_6: -1780.8386\n",
            "Season_2: -491.7898\n",
            "Season_3: 1481.2920\n",
            "Season_4: -31.1580\n"
          ]
        }
      ]
    },
    {
      "cell_type": "code",
      "source": [
        "import matplotlib.pyplot as plt\n",
        "import seaborn as sns\n",
        "\n",
        "# Seleccionar las variables que quieres analizar (solo numéricas para la correlación)\n",
        "variables = ['PowerConsumption_Zone1', 'Temperature', 'Humidity','WindSpeed','Hour', 'Month']\n",
        "df_correlacion = df[variables]\n",
        "\n",
        "# Calcular la matriz de correlación\n",
        "matriz_corr = df_correlacion.corr()\n",
        "\n",
        "# Crear el mapa de calor\n",
        "plt.figure(figsize=(8, 6))\n",
        "sns.heatmap(matriz_corr, annot=True, cmap='coolwarm', fmt=\".2f\")\n",
        "\n",
        "# Añadir títulos y etiquetas\n",
        "plt.title('Matriz de Correlación: Consumo de Energía, Temperatura, Humedad, Velocidad del Viento y Hora')\n",
        "plt.show()"
      ],
      "metadata": {
        "colab": {
          "base_uri": "https://localhost:8080/",
          "height": 716
        },
        "id": "ZIG_yCf6IJSU",
        "outputId": "7817e74c-9a0e-4842-9f99-edaf6dd7b448"
      },
      "execution_count": 7,
      "outputs": [
        {
          "output_type": "display_data",
          "data": {
            "text/plain": [
              "<Figure size 800x600 with 2 Axes>"
            ],
            "image/png": "[encoded data removed]"
          },
          "metadata": {}
        }
      ]
    },
    {
      "cell_type": "markdown",
      "source": [
        "# Interpretación de la Matriz de Correlación\n",
        "Se revisa la relación dentre el consumo de energia en la zona 1 para ver la influencia en el consumo y en las correlaciones entre variables predictoras para verificar la independencia.\n",
        "\n",
        "**Hora** +0.73\n",
        "Fuerte Positiva. Es el factor continuo más influyente. A medida que avanza el día, el consumo aumenta drásticamente.\n",
        "Confirma la necesidad de incluir la Hora en el modelo.\n",
        "\n",
        "Su alto coeficiente justifica que el R2 aumentara significativamente más allá de lo que solo la temperatura podía explicar.\n",
        "\n",
        "**Temperatura**: +0.44\n",
        "Moderada Positiva. El consumo aumenta con la temperatura, probablemente por el uso de sistemas de climatización, es un factor primario, aunque no el único.\n",
        "\n",
        "**Humedad**0.29\n",
        "Débil a Moderada Negativa. El consumo tiende a disminuir ligeramente a medida que aumenta la humedad. Justifica la inclusión de la Humedad como un factor secundario que aporta información adicional.\n",
        "\n",
        "**Velocidad del viento **+0.17\n",
        "Débil Positiva. La relación debil\n",
        "Sugiere que la Velocidad del Viento aporta poca información lineal por sí sola, pero se mantiene en el modelo al ser una variable meteorológica.\n",
        "\n",
        "**Mes**−0.01Prácticamente Nula.\n",
        "Confirma que incluir la variable mes como un número secuencial (1 a 12) es inútil. Esto justifica la necesidad de crear variables como estaciones para capturar los picos de consumo no lineales (Verano/Invierno), lo cual es lo que se hizo en el modelo.\n",
        "\n",
        "Correlación entre Variables Predictoras (Multicolinealidad)\n",
        "Es importante que las variables predictoras no estén altamente correlacionadas entre sí para que el modelo sea estable.\n",
        "•\tCorrelaciones más altas:\n",
        "Temperatura vs. Velocidad del viento: +0.48\n",
        "Temperatura vs. Humedad: −0.46\n",
        "\n",
        "Los coeficientes entre las variables predictoras son moderados (ninguno supera ±0.8), lo que indica que no hay problemas graves de multicolinealidad. Esto significa que las variables son lo suficientemente independientes como para que cada una aporte valor único a la predicción del consumo de energía.\n",
        "La adición de la Hora, variables meteorológicas y variables categóricas de tiempo (Día de la Semana, Mes/Estación) elevó el rendimiento del modelo a un  R2 de 0.65.\n"
      ],
      "metadata": {
        "id": "ng8hlPFhglwK"
      }
    },
    {
      "cell_type": "markdown",
      "source": [
        "#Validación Modelo"
      ],
      "metadata": {
        "id": "xXLAw9ZDaLlX"
      }
    },
    {
      "cell_type": "code",
      "source": [
        "import pandas as pd\n",
        "from sklearn.model_selection import KFold, cross_val_score # Importar KFold y cross_val_score\n",
        "from sklearn.linear_model import LinearRegression\n",
        "from sklearn.metrics import mean_squared_error, r2_score"
      ],
      "metadata": {
        "id": "A_PmCYSzaLT_"
      },
      "execution_count": 8,
      "outputs": []
    },
    {
      "cell_type": "code",
      "source": [
        "# 1. Definición de las variables predictoras (X) y la variable objetivo (y)\n",
        "# Suponiendo que X y y ya están definidas\n",
        "# X = df[features]\n",
        "# y = df['ConsumoDeEnergia_Zona1']\n",
        "\n",
        "# 2. Creación y Definición del Modelo\n",
        "model = LinearRegression()\n",
        "\n",
        "# 3. Definición de la estrategia de Validación Cruzada (K-Fold)\n",
        "# n_splits es el número de pliegues (k)\n",
        "k = 5\n",
        "kf = KFold(n_splits=k, shuffle=True, random_state=42)"
      ],
      "metadata": {
        "id": "WfoNIWt0aS4I"
      },
      "execution_count": 9,
      "outputs": []
    },
    {
      "cell_type": "code",
      "source": [
        "# Evaluación del modelo mediante Validación Cruzada K-Fold\n",
        "\n",
        "# Calcular el R^2 (Coeficiente de Determinación) para cada pliegue\n",
        "# El scoring por defecto para LinearRegression es 'r2'\n",
        "r2_scores = cross_val_score(model, X, y, cv=kf, scoring='r2')\n",
        "\n",
        "# Calcular el MSE (Error Cuadrático Medio) para cada pliegue\n",
        "# La función cross_val_score retorna un valor NEGATIVO para los errores, por convención.\n",
        "# Debemos tomar el negativo de la media para obtener el valor positivo del MSE.\n",
        "mse_scores = -cross_val_score(model, X, y, cv=kf, scoring='neg_mean_squared_error')"
      ],
      "metadata": {
        "id": "qIm7OsjRaXqX"
      },
      "execution_count": 10,
      "outputs": []
    },
    {
      "cell_type": "code",
      "source": [
        "# Presentar los resultados\n",
        "print(f\"Resultados de la Validación Cruzada K-Fold (k={k}):\")\n",
        "print(f\"R^2 por pliegue: {r2_scores}\")\n",
        "print(f\"R^2 Promedio: {r2_scores.mean():.4f}\")\n",
        "print(f\"Desviación Estándar de R^2: {r2_scores.std():.4f}\")\n",
        "\n",
        "print(\"-\" * 30)\n",
        "\n",
        "print(f\"MSE por pliegue: {mse_scores}\")\n",
        "print(f\"MSE Promedio: {mse_scores.mean():.2f}\")\n",
        "print(f\"Desviación Estándar de MSE: {mse_scores.std():.2f}\")"
      ],
      "metadata": {
        "colab": {
          "base_uri": "https://localhost:8080/",
          "height": 0
        },
        "id": "gu9QjcxIafUo",
        "outputId": "ec9468d0-a459-44ab-8fd4-832f36280932"
      },
      "execution_count": 11,
      "outputs": [
        {
          "output_type": "stream",
          "name": "stdout",
          "text": [
            "Resultados de la Validación Cruzada K-Fold (k=5):\n",
            "R^2 por pliegue: [0.65100643 0.65007395 0.64666973 0.64691881 0.6409152 ]\n",
            "R^2 Promedio: 0.6471\n",
            "Desviación Estándar de R^2: 0.0035\n",
            "------------------------------\n",
            "MSE por pliegue: [17622216.04807237 18062561.76434468 17994451.30997089 18059665.41080949\n",
            " 17952445.39479694]\n",
            "MSE Promedio: 17938267.99\n",
            "Desviación Estándar de MSE: 163360.14\n"
          ]
        }
      ]
    },
    {
      "cell_type": "markdown",
      "source": [
        "Coeficiente de Determinación (R2): El valor promedio es 0.6471 (o 64.71%). El modelo de regresión lineal múltiple explica el 64.71% de la variabilidad total en el consumo de energía de la Zona 1.\n",
        "\n",
        "Consistencia: El valor es muy cercano al R 2 de 0.65 obtenido en la evaluación inicial.\n",
        "\n",
        "Desviación Estándar de R 2: El valor de 0.0035 la desviación estándar tan baja indica que el rendimiento del modelo estable y robusto; no depende del subconjunto específico de datos que se utilice para entrenar o probar. El modelo generaliza bien.\n",
        "\n",
        "Error Cuadrático Medio (MSE)\n",
        "El valor promedio es 17938267.99. Este valor representa la magnitud del error de predicción al cuadrado del modelo, promediado a través de los cinco pliegues.\n",
        "\n",
        "Consistencia: El MSE promedio es similar al MSE de 17622216.05 obtenido en la evaluación inicial.\n",
        "\n",
        "Desviación Estándar de MSE: El valor de 163360.14 es bajo en relación con el valor del MSE promedio (aproximadamente 0.9% del promedio).\n",
        "\n",
        "Esto confirma la robustez. El error del modelo no varía significativamente cuando se entrena con diferentes particiones de los datos, lo cual es una señal excelente.\n",
        "\n",
        "El modelo múltiple es un avance significativo porque incorporó el factor dominante de la Hora y utilizó variables categóricas de tiempo, lo que elevó la capacidad predictiva del modelo del 19% al 65%.\n",
        "\n"
      ],
      "metadata": {
        "id": "xS_5QzI_bQwo"
      }
    },
    {
      "cell_type": "markdown",
      "source": [
        "#Conclusiones de la revisión y ajuste del modelo\n",
        "\n",
        "Coeficiente de Determinación (R 2 ): 0.65\n",
        "Este valor significa que el modelo explica el 65% de la variabilidad en el consumo de energía. Es un avance significativo en comparación con un modelo de regresión lineal simple que solo usa la temperatura el cual tenía un coeficiente de correlación (r) de 0.4402. El modelo múltiple que incluye variables como la  Hora, la Estación y el Día de la Semana mejora notablemente la capacidad de predicción.\n",
        "\n",
        "Esto demuestra que la adición de variables como la humedad, la velocidad del viento y las variables de tiempo ha mejorado notablemente la capacidad de predicción del modelo del 19% al 65%.\n",
        "\n",
        "Temperatura (344.24): Por cada grado que aumenta la temperatura, el consumo de energía aumenta en 344.24 unidades, lo que confirma que la temperatura es el factor más influyente.\n",
        "\n",
        "Humedad (11.84) y Velocidad del Viento (34.42): Aunque tienen un efecto positivo, su impacto es mucho menor que el de la temperatura. Esto es consistente con lo esperado, ya que estos factores también influyen en la sensación térmica y en el uso de sistemas de climatización.\n",
        "\n",
        "Hora del día (700.77): Factor más influyente. Su alto coeficiente indica que el consumo de energía cambia drásticamente a lo largo del día, lo cual es lógico debido al uso energía durante las horas del día especificas.\n",
        "\n",
        "Día de la semana (DayOfWeek): Los coeficientes positivos para DayOfWeek_1 (lunes), DayOfWeek_2 (martes) y DayOfWeek_3 (miércoles) sugieren un mayor consumo de energía en los días laborables, en comparación con el domingo (que es el valor de referencia, ya que no tiene un coeficiente).\n",
        "\n",
        "Los coeficientes negativos para DayOfWeek_4 (jueves), DayOfWeek_5 (viernes) y DayOfWeek_6 (sábado) podrian podrían indicar cambios en los patrones de consumo hacia el final de la semana, como una reducción en oficinas o negocios.\n",
        "\n",
        "Estación del año (Season): Los coeficientes de las estaciones (con la temporada 1 como referencia) muestran que la Temporada 3 (Season_3) tiene un aumento significativo en el consumo (1481.29), lo que probablemente corresponde al verano, cuando los sistemas de aire acondicionado funcionan al máximo. En contraste, las otras estaciones tienen un menor impacto.\n",
        "La Validación Cruzada K-Fold confirma que el modelo de regresión lineal múltiple es robusto, estable y confiable.\n"
      ],
      "metadata": {
        "id": "aDVdLotRc6Cw"
      }
    },
    {
      "cell_type": "code",
      "metadata": {
        "colab": {
          "base_uri": "https://localhost:8080/",
          "height": 0
        },
        "collapsed": true,
        "id": "d9d10180",
        "outputId": "bac7a243-2c99-4d33-f7b1-d83ae5b4b57e"
      },
      "source": [
        "!pip install dash-bootstrap-components\n",
        "!pip install plotly"
      ],
      "execution_count": 12,
      "outputs": [
        {
          "output_type": "stream",
          "name": "stdout",
          "text": [
            "Collecting dash-bootstrap-components\n",
            "  Downloading dash_bootstrap_components-2.0.4-py3-none-any.whl.metadata (18 kB)\n",
            "Collecting dash>=3.0.4 (from dash-bootstrap-components)\n",
            "  Downloading dash-3.2.0-py3-none-any.whl.metadata (10 kB)\n",
            "Requirement already satisfied: Flask<3.2,>=1.0.4 in /usr/local/lib/python3.12/dist-packages (from dash>=3.0.4->dash-bootstrap-components) (3.1.2)\n",
            "Requirement already satisfied: Werkzeug<3.2 in /usr/local/lib/python3.12/dist-packages (from dash>=3.0.4->dash-bootstrap-components) (3.1.3)\n",
            "Requirement already satisfied: plotly>=5.0.0 in /usr/local/lib/python3.12/dist-packages (from dash>=3.0.4->dash-bootstrap-components) (5.24.1)\n",
            "Requirement already satisfied: importlib-metadata in /usr/local/lib/python3.12/dist-packages (from dash>=3.0.4->dash-bootstrap-components) (8.7.0)\n",
            "Requirement already satisfied: typing-extensions>=4.1.1 in /usr/local/lib/python3.12/dist-packages (from dash>=3.0.4->dash-bootstrap-components) (4.15.0)\n",
            "Requirement already satisfied: requests in /usr/local/lib/python3.12/dist-packages (from dash>=3.0.4->dash-bootstrap-components) (2.32.4)\n",
            "Collecting retrying (from dash>=3.0.4->dash-bootstrap-components)\n",
            "  Downloading retrying-1.4.2-py3-none-any.whl.metadata (5.5 kB)\n",
            "Requirement already satisfied: nest-asyncio in /usr/local/lib/python3.12/dist-packages (from dash>=3.0.4->dash-bootstrap-components) (1.6.0)\n",
            "Requirement already satisfied: setuptools in /usr/local/lib/python3.12/dist-packages (from dash>=3.0.4->dash-bootstrap-components) (75.2.0)\n",
            "Requirement already satisfied: blinker>=1.9.0 in /usr/local/lib/python3.12/dist-packages (from Flask<3.2,>=1.0.4->dash>=3.0.4->dash-bootstrap-components) (1.9.0)\n",
            "Requirement already satisfied: click>=8.1.3 in /usr/local/lib/python3.12/dist-packages (from Flask<3.2,>=1.0.4->dash>=3.0.4->dash-bootstrap-components) (8.2.1)\n",
            "Requirement already satisfied: itsdangerous>=2.2.0 in /usr/local/lib/python3.12/dist-packages (from Flask<3.2,>=1.0.4->dash>=3.0.4->dash-bootstrap-components) (2.2.0)\n",
            "Requirement already satisfied: jinja2>=3.1.2 in /usr/local/lib/python3.12/dist-packages (from Flask<3.2,>=1.0.4->dash>=3.0.4->dash-bootstrap-components) (3.1.6)\n",
            "Requirement already satisfied: markupsafe>=2.1.1 in /usr/local/lib/python3.12/dist-packages (from Flask<3.2,>=1.0.4->dash>=3.0.4->dash-bootstrap-components) (3.0.2)\n",
            "Requirement already satisfied: tenacity>=6.2.0 in /usr/local/lib/python3.12/dist-packages (from plotly>=5.0.0->dash>=3.0.4->dash-bootstrap-components) (8.5.0)\n",
            "Requirement already satisfied: packaging in /usr/local/lib/python3.12/dist-packages (from plotly>=5.0.0->dash>=3.0.4->dash-bootstrap-components) (25.0)\n",
            "Requirement already satisfied: zipp>=3.20 in /usr/local/lib/python3.12/dist-packages (from importlib-metadata->dash>=3.0.4->dash-bootstrap-components) (3.23.0)\n",
            "Requirement already satisfied: charset_normalizer<4,>=2 in /usr/local/lib/python3.12/dist-packages (from requests->dash>=3.0.4->dash-bootstrap-components) (3.4.3)\n",
            "Requirement already satisfied: idna<4,>=2.5 in /usr/local/lib/python3.12/dist-packages (from requests->dash>=3.0.4->dash-bootstrap-components) (3.10)\n",
            "Requirement already satisfied: urllib3<3,>=1.21.1 in /usr/local/lib/python3.12/dist-packages (from requests->dash>=3.0.4->dash-bootstrap-components) (2.5.0)\n",
            "Requirement already satisfied: certifi>=2017.4.17 in /usr/local/lib/python3.12/dist-packages (from requests->dash>=3.0.4->dash-bootstrap-components) (2025.8.3)\n",
            "Downloading dash_bootstrap_components-2.0.4-py3-none-any.whl (204 kB)\n",
            "\u001b[2K   \u001b[90m━━━━━━━━━━━━━━━━━━━━━━━━━━━━━━━━━━━━━━━━\u001b[0m \u001b[32m204.0/204.0 kB\u001b[0m \u001b[31m8.6 MB/s\u001b[0m eta \u001b[36m0:00:00\u001b[0m\n",
            "\u001b[?25hDownloading dash-3.2.0-py3-none-any.whl (7.9 MB)\n",
            "\u001b[2K   \u001b[90m━━━━━━━━━━━━━━━━━━━━━━━━━━━━━━━━━━━━━━━━\u001b[0m \u001b[32m7.9/7.9 MB\u001b[0m \u001b[31m87.9 MB/s\u001b[0m eta \u001b[36m0:00:00\u001b[0m\n",
            "\u001b[?25hDownloading retrying-1.4.2-py3-none-any.whl (10 kB)\n",
            "Installing collected packages: retrying, dash, dash-bootstrap-components\n",
            "Successfully installed dash-3.2.0 dash-bootstrap-components-2.0.4 retrying-1.4.2\n",
            "Requirement already satisfied: plotly in /usr/local/lib/python3.12/dist-packages (5.24.1)\n",
            "Requirement already satisfied: tenacity>=6.2.0 in /usr/local/lib/python3.12/dist-packages (from plotly) (8.5.0)\n",
            "Requirement already satisfied: packaging in /usr/local/lib/python3.12/dist-packages (from plotly) (25.0)\n"
          ]
        }
      ]
    },
    {
      "cell_type": "code",
      "source": [
        "import pandas as pd"
      ],
      "metadata": {
        "id": "1ge7q4IvX12O"
      },
      "execution_count": 13,
      "outputs": []
    },
    {
      "cell_type": "code",
      "metadata": {
        "colab": {
          "base_uri": "https://localhost:8080/",
          "height": 0
        },
        "collapsed": true,
        "id": "486fa56c",
        "outputId": "2796e3f9-bcf1-40fa-bec6-e9b569306964"
      },
      "source": [
        "%pip install dash"
      ],
      "execution_count": 14,
      "outputs": [
        {
          "output_type": "stream",
          "name": "stdout",
          "text": [
            "Requirement already satisfied: dash in /usr/local/lib/python3.12/dist-packages (3.2.0)\n",
            "Requirement already satisfied: Flask<3.2,>=1.0.4 in /usr/local/lib/python3.12/dist-packages (from dash) (3.1.2)\n",
            "Requirement already satisfied: Werkzeug<3.2 in /usr/local/lib/python3.12/dist-packages (from dash) (3.1.3)\n",
            "Requirement already satisfied: plotly>=5.0.0 in /usr/local/lib/python3.12/dist-packages (from dash) (5.24.1)\n",
            "Requirement already satisfied: importlib-metadata in /usr/local/lib/python3.12/dist-packages (from dash) (8.7.0)\n",
            "Requirement already satisfied: typing-extensions>=4.1.1 in /usr/local/lib/python3.12/dist-packages (from dash) (4.15.0)\n",
            "Requirement already satisfied: requests in /usr/local/lib/python3.12/dist-packages (from dash) (2.32.4)\n",
            "Requirement already satisfied: retrying in /usr/local/lib/python3.12/dist-packages (from dash) (1.4.2)\n",
            "Requirement already satisfied: nest-asyncio in /usr/local/lib/python3.12/dist-packages (from dash) (1.6.0)\n",
            "Requirement already satisfied: setuptools in /usr/local/lib/python3.12/dist-packages (from dash) (75.2.0)\n",
            "Requirement already satisfied: blinker>=1.9.0 in /usr/local/lib/python3.12/dist-packages (from Flask<3.2,>=1.0.4->dash) (1.9.0)\n",
            "Requirement already satisfied: click>=8.1.3 in /usr/local/lib/python3.12/dist-packages (from Flask<3.2,>=1.0.4->dash) (8.2.1)\n",
            "Requirement already satisfied: itsdangerous>=2.2.0 in /usr/local/lib/python3.12/dist-packages (from Flask<3.2,>=1.0.4->dash) (2.2.0)\n",
            "Requirement already satisfied: jinja2>=3.1.2 in /usr/local/lib/python3.12/dist-packages (from Flask<3.2,>=1.0.4->dash) (3.1.6)\n",
            "Requirement already satisfied: markupsafe>=2.1.1 in /usr/local/lib/python3.12/dist-packages (from Flask<3.2,>=1.0.4->dash) (3.0.2)\n",
            "Requirement already satisfied: tenacity>=6.2.0 in /usr/local/lib/python3.12/dist-packages (from plotly>=5.0.0->dash) (8.5.0)\n",
            "Requirement already satisfied: packaging in /usr/local/lib/python3.12/dist-packages (from plotly>=5.0.0->dash) (25.0)\n",
            "Requirement already satisfied: zipp>=3.20 in /usr/local/lib/python3.12/dist-packages (from importlib-metadata->dash) (3.23.0)\n",
            "Requirement already satisfied: charset_normalizer<4,>=2 in /usr/local/lib/python3.12/dist-packages (from requests->dash) (3.4.3)\n",
            "Requirement already satisfied: idna<4,>=2.5 in /usr/local/lib/python3.12/dist-packages (from requests->dash) (3.10)\n",
            "Requirement already satisfied: urllib3<3,>=1.21.1 in /usr/local/lib/python3.12/dist-packages (from requests->dash) (2.5.0)\n",
            "Requirement already satisfied: certifi>=2017.4.17 in /usr/local/lib/python3.12/dist-packages (from requests->dash) (2025.8.3)\n"
          ]
        }
      ]
    },
    {
      "cell_type": "code",
      "source": [
        "# Convertir la columna 'Datetime' a formato de fecha y hora\n",
        "df['Datetime'] = pd.to_datetime(df['Datetime'])"
      ],
      "metadata": {
        "id": "i9UsZHTjli_1"
      },
      "execution_count": 15,
      "outputs": []
    },
    {
      "cell_type": "markdown",
      "source": [
        "#Dashbord Modelo de Consumo de Energía por Zonas"
      ],
      "metadata": {
        "id": "VfTq2ZgG5zB4"
      }
    },
    {
      "cell_type": "code",
      "source": [
        "import dash\n",
        "from dash import dcc, html\n",
        "from dash.dependencies import Input, Output\n",
        "import pandas as pd\n",
        "import plotly.express as px\n",
        "\n",
        "# Carga y preparación de los datos\n",
        "# Use the correct path to the dataset\n",
        "df = pd.read_csv(path + '/powerconsumption.csv')\n",
        "df['Datetime'] = pd.to_datetime(df['Datetime'])\n",
        "df['Year'] = df['Datetime'].dt.year # Extract year and add as a new column\n",
        "df['Hour'] = df['Datetime'].dt.hour\n",
        "df['Month'] = df['Datetime'].dt.month\n",
        "df['Day'] = df['Datetime'].dt.day\n",
        "df['DayOfWeek'] = df['Datetime'].dt.dayofweek # Extract day of week\n",
        "\n",
        "# Map hours to intervals\n",
        "def get_hour_interval(hour):\n",
        "    if 6 <= hour < 12:\n",
        "        return 'Mañana'\n",
        "    elif 12 <= hour < 17:\n",
        "        return 'Tarde'\n",
        "    elif 17 <= hour < 18:\n",
        "        return 'Anocher'\n",
        "    else:\n",
        "        return 'Noche'\n",
        "\n",
        "df['HourInterval'] = df['Hour'].apply(get_hour_interval)\n",
        "\n",
        "\n",
        "# Mapeo de números de mes a nombres\n",
        "month_names = {\n",
        "    1: 'Enero', 2: 'Febrero', 3: 'Marzo', 4: 'Abril', 5: 'Mayo', 6: 'Junio',\n",
        "    7: 'Julio', 8: 'Agosto', 9: 'Septiembre', 10: 'Octubre', 11: 'Noviembre', 12: 'Diciembre'\n",
        "}\n",
        "df['MonthName'] = df['Month'].map(month_names)\n",
        "\n",
        "# Define las estaciones\n",
        "def get_season(month):\n",
        "    if month in [12, 1, 2]: return 'Invierno'\n",
        "    elif month in [3, 4, 5]: return 'Primavera'\n",
        "    elif month in [6, 7, 8]: return 'Verano'\n",
        "    elif month in [9, 10, 11]: return 'Otoño' # Corrected the condition for Autumn\n",
        "    else: return 'Desconocido' # Added a default case\n",
        "df['Season'] = df['Month'].apply(get_season)\n",
        "\n",
        "# Mapeo de números de día de la semana a nombres\n",
        "day_names = {\n",
        "    0: 'Lunes', 1: 'Martes', 2: 'Miércoles', 3: 'Jueves', 4: 'Viernes', 5: 'Sábado', 6: 'Domingo'\n",
        "}\n",
        "df['DayName'] = df['DayOfWeek'].map(day_names)\n",
        "\n",
        "# Calculate average daily consumption per zone\n",
        "daily_avg_consumption = df.groupby(['Year', 'Month', 'Day'])[['PowerConsumption_Zone1', 'PowerConsumption_Zone2', 'PowerConsumption_Zone3']].mean().mean().reset_index()\n",
        "daily_avg_consumption.columns = ['Zone', 'AverageDailyConsumption']\n",
        "\n",
        "# Calculate average monthly consumption per zone\n",
        "monthly_avg_consumption = df.groupby(['Year', 'Month'])[['PowerConsumption_Zone1', 'PowerConsumption_Zone2', 'PowerConsumption_Zone3']].mean().mean().reset_index()\n",
        "monthly_avg_consumption.columns = ['Zone', 'AverageMonthlyConsumption']\n",
        "\n",
        "# Prepare data for solar impact graph (average consumption and solar radiation by hour)\n",
        "df_solar_impact = df.groupby('Hour')[['GeneralDiffuseFlows', 'DiffuseFlows', 'PowerConsumption_Zone1', 'PowerConsumption_Zone2', 'PowerConsumption_Zone3']].mean().reset_index()\n",
        "\n",
        "\n",
        "# Prepare data for trend graph\n",
        "# Calculate average daily consumption per zone\n",
        "df_daily_avg = df.groupby(['Year', 'Month', 'Day'])[['PowerConsumption_Zone1', 'PowerConsumption_Zone2', 'PowerConsumption_Zone3']].mean().reset_index()\n",
        "df_daily_avg['Date'] = pd.to_datetime(df_daily_avg[['Year', 'Month', 'Day']])\n",
        "\n",
        "# Calculate average weekly consumption per zone\n",
        "df_weekly_avg = df.groupby(['Year', 'DayOfWeek'])[['PowerConsumption_Zone1', 'PowerConsumption_Zone2', 'PowerConsumption_Zone3']].mean().reset_index()\n",
        "\n",
        "# Calculate average monthly consumption per zone\n",
        "df_monthly_avg = df.groupby(['Year', 'Month'])[['PowerConsumption_Zone1', 'PowerConsumption_Zone2', 'PowerConsumption_Zone3']].mean().reset_index()\n",
        "df_monthly_avg['MonthYear'] = pd.to_datetime(df_monthly_avg['Year'].astype(str) + '-' + df_monthly_avg['Month'].astype(str) + '-01')\n",
        "\n",
        "\n",
        "# Inicializa la aplicación Dash\n",
        "app = dash.Dash(__name__)\n",
        "\n",
        "# Define el diseño del dashboard\n",
        "app.layout = html.Div(children=[\n",
        "    html.H1(children='Dashboard de Consumo de Energía'),\n",
        "\n",
        "    # -------------------\n",
        "    # Gráfico 1: Consumo vs. Temperatura por Hora y Semana\n",
        "    html.Div([\n",
        "        html.H2('1. Consumo de Energía vs. Temperatura y Hora'),\n",
        "        html.Div([\n",
        "            html.Label('Selecciona un Día de la Semana:'),\n",
        "            dcc.Dropdown(id='dayofweek-dropdown-1', options=[{'label': name, 'value': day} for day, name in day_names.items()], value=df['DayOfWeek'].min()),\n",
        "            html.Label('Selecciona un Intervalo de Hora:'),\n",
        "            dcc.Dropdown(id='hourinterval-dropdown-1', options=[{'label': i, 'value': i} for i in df['HourInterval'].unique()], value=df['HourInterval'].unique()[0]),\n",
        "            html.Label('Selecciona una Zona:'),\n",
        "            dcc.Dropdown(id='zone-dropdown-1', options=[{'label': 'Zona 1', 'value': 'PowerConsumption_Zone1'},\n",
        "                                                       {'label': 'Zona 2', 'value': 'PowerConsumption_Zone2'},\n",
        "                                                       {'label': 'Zona 3', 'value': 'PowerConsumption_Zone3'}],\n",
        "                         value='PowerConsumption_Zone1')\n",
        "        ]),\n",
        "        dcc.Graph(id='graph-1')\n",
        "    ]),\n",
        "\n",
        "    # -------------------\n",
        "    # Gráfico 2: Consumo de energía vs. Humedad y Viento por Mes\n",
        "    html.Div([\n",
        "        html.H2('2. Consumo de energía, Humedad y Viento por Mes'),\n",
        "        html.Div([\n",
        "            html.Label('Selecciona una Estación:'),\n",
        "            dcc.Dropdown(id='season-dropdown-2', options=[{'label': i, 'value': i} for i in df['Season'].unique()], value=df['Season'].unique()[0]),\n",
        "            html.Label('Selecciona un Mes:'),\n",
        "            dcc.Dropdown(id='month-dropdown-2', options=[], value=None), # Initialize with empty options and no initial value\n",
        "            html.Label('Selecciona una Zona:'),\n",
        "            dcc.Dropdown(id='zone-dropdown-2', options=[{'label': 'Zona 1', 'value': 'PowerConsumption_Zone1'},\n",
        "                                                       {'label': 'Zona 2', 'value': 'PowerConsumption_Zone2'},\n",
        "                                                       {'label': 'Zona 3', 'value': 'PowerConsumption_Zone3'}],\n",
        "                         value='PowerConsumption_Zone1')\n",
        "        ]),\n",
        "        dcc.Graph(id='graph-2')\n",
        "    ]),\n",
        "\n",
        "    # -------------------\n",
        "    # Gráfico 3: Consumo por Estación en las 3 Zonas\n",
        "    html.Div([\n",
        "        html.H2('3. Consumo de Energía por Estación y Zona'),\n",
        "        html.Div([\n",
        "            html.Label('Selecciona un Día de la Semana:'),\n",
        "            dcc.Dropdown(id='dayofweek-dropdown-3', options=[{'label': name, 'value': day} for day, name in day_names.items()], value=df['DayOfWeek'].min()),\n",
        "        ]),\n",
        "        dcc.Graph(id='graph-3')\n",
        "    ]),\n",
        "    # Gráfico 4: Tendencias Anuales y Estacionales\n",
        "    html.Div([\n",
        "        html.H2('4. Tendencias Anuales y Estacionales del Consumo de Energía'),\n",
        "        html.Div([\n",
        "            html.Label('Selecciona una Zona:'),\n",
        "            dcc.Dropdown(id='zone-dropdown-trend',\n",
        "                         options=[{'label': 'Zona 1', 'value': 'PowerConsumption_Zone1'},\n",
        "                                  {'label': 'Zona 2', 'value': 'PowerConsumption_Zone2'},\n",
        "                                  {'label': 'Zona 3', 'value': 'PowerConsumption_Zone3'}],\n",
        "                         value='PowerConsumption_Zone1'),\n",
        "            html.Label('Selecciona el Nivel de Agregación:'),\n",
        "            dcc.Dropdown(id='aggregation-dropdown',\n",
        "                         options=[{'label': 'Diario', 'value': 'Daily'},\n",
        "                                  {'label': 'Semanal', 'value': 'Weekly'},\n",
        "                                  {'label': 'Mensual', 'value': 'Monthly'}],\n",
        "                         value='Daily'),\n",
        "             html.Label('Selecciona el Año:'),\n",
        "            dcc.Dropdown(id='year-dropdown-trend',\n",
        "                        options=[{'label': str(year), 'value': year} for year in df['Year'].unique()],\n",
        "                        value=df['Year'].min()),\n",
        "        ]),\n",
        "        dcc.Graph(id='trend-graph')\n",
        "    ]),\n",
        "#Gráfico 5: Consumo Promedio por Día de la Semana ---\n",
        "html.Div([\n",
        "    html.H2('5. Consumo Promedio por Día de la Semana y Hora'),\n",
        "    html.Div([\n",
        "        html.Label('Selecciona un Intervalo de Hora:'),\n",
        "        dcc.Dropdown(\n",
        "            id='hourinterval-dropdown-4',\n",
        "            # Use the correct column name 'HourInterval'\n",
        "            options=[{'label': i, 'value': i} for i in df['HourInterval'].unique()],\n",
        "            value='Tarde' # Valor por defecto\n",
        "        ),\n",
        "        html.Label('Selecciona una Zona:'),\n",
        "        dcc.Dropdown(\n",
        "            id='zona-dropdown-4',\n",
        "            options=[\n",
        "                {'label': 'Zona 1', 'value': 'PowerConsumption_Zone1'},\n",
        "                {'label': 'Zona 2', 'value': 'PowerConsumption_Zone2'},\n",
        "                {'label': 'Zona 3', 'value': 'PowerConsumption_Zone3'}\n",
        "            ],\n",
        "            value='PowerConsumption_Zone1' # Valor por defecto\n",
        "        ),\n",
        "    ]),\n",
        "    dcc.Graph(id='graph-4')\n",
        "]),\n",
        "# --------------------------------------------------------------------\n",
        "\n",
        "])\n",
        "\n",
        "# Callback para actualizar las opciones del dropdown de mes basado en la estación\n",
        "@app.callback(\n",
        "    Output('month-dropdown-2', 'options'),\n",
        "    [Input('season-dropdown-2', 'value')]\n",
        ")\n",
        "def update_month_dropdown(selected_season):\n",
        "    if selected_season is None:\n",
        "        return []\n",
        "    # Get the months corresponding to the selected season\n",
        "    months_in_season = df[df['Season'] == selected_season]['Month'].unique()\n",
        "    # Sort months and create options for the dropdown\n",
        "    return [{'label': month_names[month], 'value': month} for month in sorted(months_in_season)]\n",
        "\n",
        "\n",
        "# Callback 1 para el Gráfico 1\n",
        "@app.callback(\n",
        "    Output('graph-1', 'figure'),\n",
        "    [Input('dayofweek-dropdown-1', 'value'),\n",
        "     Input('hourinterval-dropdown-1', 'value'),\n",
        "     Input('zone-dropdown-1', 'value')]\n",
        ")\n",
        "def update_graph_1(selected_dayofweek, selected_hourinterval, selected_zone):\n",
        "    filtered_df = df[(df['DayOfWeek'] == selected_dayofweek) & (df['HourInterval'] == selected_hourinterval)]\n",
        "    fig = px.scatter(\n",
        "        filtered_df, # Use the filtered dataframe\n",
        "        x='Temperature',\n",
        "        y=selected_zone,\n",
        "        color='Hour', # Keep color by individual hour for more detail within interval\n",
        "        title=f'Consumo de energía vs. Temperatura por Hora en {selected_zone} ({day_names[selected_dayofweek]}, {selected_hourinterval})',\n",
        "        labels={'Temperature': 'Temperatura (°C)', selected_zone: 'Consumo (Wh)', 'Hour': 'Hora del Día'},\n",
        "        trendline='ols'\n",
        "    )\n",
        "    return fig\n",
        "\n",
        "# Callback 2 para el Gráfico 2\n",
        "@app.callback(\n",
        "    Output('graph-2', 'figure'),\n",
        "    [Input('month-dropdown-2', 'value'),\n",
        "     Input('season-dropdown-2', 'value'),\n",
        "     Input('zone-dropdown-2', 'value')]\n",
        ")\n",
        "def update_graph_2(selected_month, selected_season, selected_zone):\n",
        "    if selected_month is None: # Handle case where no month is selected yet\n",
        "        return {}\n",
        "    filtered_df = df[(df['Month'] == selected_month) & (df['Season'] == selected_season)]\n",
        "    fig = px.scatter(\n",
        "        filtered_df,\n",
        "        x='Humidity',\n",
        "        y=selected_zone,\n",
        "        size='WindSpeed',\n",
        "        color='Temperature',\n",
        "        hover_name='Datetime',\n",
        "        title=f'Consumo de energía, Humedad y Viento en {selected_zone} en {month_names[selected_month]} ({selected_season})',\n",
        "        labels={'Humidity': 'Humedad (%)', selected_zone: 'Consumo (Wh)', 'WindSpeed': 'Velocidad del Viento (km/h)'}\n",
        "    )\n",
        "    return fig\n",
        "\n",
        "# Callback 3 para el Gráfico 3\n",
        "@app.callback(\n",
        "    Output('graph-3', 'figure'),\n",
        "    [Input('dayofweek-dropdown-3', 'value')] # Add dayofweek-dropdown-3 as input\n",
        ")\n",
        "def update_graph_3(selected_dayofweek):\n",
        "    # Filter the dataframe by the selected day of the week\n",
        "    filtered_df = df[df['DayOfWeek'] == selected_dayofweek]\n",
        "\n",
        "    # Combina los datos de las tres zonas en un solo DataFrame para el gráfico de caja\n",
        "    df_melt = filtered_df.melt(id_vars=['Season'], # Use the filtered dataframe\n",
        "                     value_vars=['PowerConsumption_Zone1', 'PowerConsumption_Zone2', 'PowerConsumption_Zone3'],\n",
        "                     var_name='Zone',\n",
        "                     value_name='PowerConsumption')\n",
        "\n",
        "    fig = px.box(\n",
        "        df_melt,\n",
        "        x='Season',\n",
        "        y='PowerConsumption',\n",
        "        color='Zone',\n",
        "        points='all',\n",
        "        title=f'Consumo de Energía por Estación en las 3 Zonas ({day_names[selected_dayofweek]})',\n",
        "        labels={'Season': 'Estación', 'PowerConsumption': 'Consumo (Wh)', 'Zone': 'Zona'}\n",
        "    )\n",
        "    return fig\n",
        "\n",
        "\n",
        "# Callback for the Trend Graph\n",
        "@app.callback(\n",
        "    Output('trend-graph', 'figure'),\n",
        "    [Input('zone-dropdown-trend', 'value'),\n",
        "     Input('aggregation-dropdown', 'value'),\n",
        "     Input('year-dropdown-trend', 'value')]\n",
        ")\n",
        "def update_trend_graph(selected_zone, selected_aggregation, selected_year):\n",
        "    if selected_aggregation == 'Daily':\n",
        "        agg_df = df_daily_avg\n",
        "        x_col = 'Date'\n",
        "        title_prefix = 'Daily Average'\n",
        "    elif selected_aggregation == 'Weekly':\n",
        "        # For weekly, we plot DayOfWeek for the selected year\n",
        "        agg_df = df_weekly_avg[df_weekly_avg['Year'] == selected_year]\n",
        "        x_col = 'DayOfWeek'\n",
        "        title_prefix = 'Weekly Average'\n",
        "    elif selected_aggregation == 'Monthly':\n",
        "        agg_df = df_monthly_avg[df_monthly_avg['Year'] == selected_year]\n",
        "        x_col = 'MonthYear'\n",
        "        title_prefix = 'Monthly Average'\n",
        "    else:\n",
        "        return {} # Return empty figure if no aggregation is selected\n",
        "\n",
        "    # Filter by year if aggregation is weekly or monthly\n",
        "    if selected_aggregation in ['Weekly', 'Monthly']:\n",
        "         agg_df = agg_df[agg_df['Year'] == selected_year]\n",
        "\n",
        "    fig = px.line(\n",
        "        agg_df,\n",
        "        x=x_col,\n",
        "        y=selected_zone,\n",
        "        title=f'{title_prefix} Power Consumption Trend for {selected_zone} in {selected_year}',\n",
        "        labels={x_col: selected_aggregation, selected_zone: 'Consumo (Wh)'}\n",
        "    )\n",
        "\n",
        "    # Improve x-axis for weekly plot if needed (e.g., use day names)\n",
        "    if selected_aggregation == 'DayOfWeek': # Changed from 'Weekly' to 'DayOfWeek' to match x_col\n",
        "         fig.update_layout(\n",
        "             xaxis = dict(\n",
        "                 tickmode = 'array',\n",
        "                 tickvals = list(day_names.keys()),\n",
        "                 ticktext = list(day_names.values())\n",
        "             )\n",
        "         )\n",
        "\n",
        "\n",
        "    return fig\n",
        "\n",
        "# Dictionary to correctly order days of the week\n",
        "# Assumes 0: Monday, ..., 6: Sunday\n",
        "nombres_del_dia = {\n",
        "    0: 'Lunes', 1: 'Martes', 2: 'Miércoles', 3: 'Jueves', 4: 'Viernes', 5: 'Sábado', 6: \"Domingo\"\n",
        "} # [cite: 303]\n",
        "\n",
        "@app.callback(\n",
        "    Output('graph-4', 'figure'),\n",
        "    [Input('hourinterval-dropdown-4', 'value'),\n",
        "     Input('zona-dropdown-4', 'value')]\n",
        ")\n",
        "def update_graph_4(intervalo_seleccionado, zona_seleccionada):\n",
        "    if not intervalo_seleccionado:\n",
        "        return {} # Return empty graph if no selection\n",
        "\n",
        "    # 1. Filter data by the selected hour interval\n",
        "    df_filtrado = df[df['HourInterval'] == intervalo_seleccionado]\n",
        "\n",
        "    # 2. Calculate average consumption by day of the week for the selected zone\n",
        "    # Use 'DayOfWeek' (numeric value 0-6) for sorting, and 'DayName' for the label\n",
        "    # Use the 'DayOfWeek' column created in the notebook preprocessing [cite: 85]\n",
        "    df_agrupado = df_filtrado.groupby(['DayOfWeek', 'DayName'])[zona_seleccionada].mean().reset_index()\n",
        "\n",
        "    # 3. Create the bar graph\n",
        "    fig = px.bar(\n",
        "        df_agrupado,\n",
        "        x='DayName',\n",
        "        y=zona_seleccionada,\n",
        "        color='DayName', # Use the day as color to differentiate\n",
        "        title=f'Consumo Promedio por Día de la Semana en {zona_seleccionada} durante la {intervalo_seleccionado}',\n",
        "        labels={zona_seleccionada: 'Consumo Promedio (Wh)', 'DayName': 'Día de la Semana'},\n",
        "    )\n",
        "\n",
        "    # Ensure correct order of days of the week\n",
        "    dia_orden = list(nombres_del_dia.values())\n",
        "    fig.update_xaxes(categoryarray=dia_orden, categoryorder='array')\n",
        "\n",
        "    return fig\n",
        "\n",
        "\n",
        "# Ejecutar el servidor\n",
        "if __name__ == '__main__':\n",
        "    app.run(debug=True)"
      ],
      "metadata": {
        "colab": {
          "base_uri": "https://localhost:8080/",
          "height": 671
        },
        "id": "SFkAtaCmZkVb",
        "outputId": "38015401-1e31-4627-ec3e-5252780eb0a9"
      },
      "execution_count": 16,
      "outputs": [
        {
          "output_type": "display_data",
          "data": {
            "text/plain": [
              "<IPython.core.display.Javascript object>"
            ],
            "application/javascript": [
              "(async (port, path, width, height, cache, element) => {\n",
              "    if (!google.colab.kernel.accessAllowed && !cache) {\n",
              "      return;\n",
              "    }\n",
              "    element.appendChild(document.createTextNode(''));\n",
              "    const url = await google.colab.kernel.proxyPort(port, {cache});\n",
              "    const iframe = document.createElement('iframe');\n",
              "    iframe.src = new URL(path, url).toString();\n",
              "    iframe.height = height;\n",
              "    iframe.width = width;\n",
              "    iframe.style.border = 0;\n",
              "    iframe.allow = [\n",
              "        'accelerometer',\n",
              "        'autoplay',\n",
              "        'camera',\n",
              "        'clipboard-read',\n",
              "        'clipboard-write',\n",
              "        'gyroscope',\n",
              "        'magnetometer',\n",
              "        'microphone',\n",
              "        'serial',\n",
              "        'usb',\n",
              "        'xr-spatial-tracking',\n",
              "    ].join('; ');\n",
              "    element.appendChild(iframe);\n",
              "  })(8050, \"/\", \"100%\", 650, false, window.element)"
            ]
          },
          "metadata": {}
        }
      ]
    },
    {
      "cell_type": "markdown",
      "source": [
        "**Conclusión**\n",
        "\n",
        "El proceso desarrollado en el Jupyter Notebook se centra en el análisis de la relación entre la Temperatura y el Consumo de Energía en la Zona 1, inicialmente mediante una regresión lineal simple y luego a través de un modelo de regresión lineal múltiple para mejorar la predicción.\n",
        "\n",
        "El análisis inicial se enfocó en probar la siguiente hipótesis:\n",
        "\n",
        "H 0: No existe una relación significativa entre la temperatura y el consumo de energía en la zona 1.\n",
        "\n",
        "Resultado del Test: Se rechazó la hipótesis nula (H 0 ).\n",
        "\n",
        "El P-valor obtenido fue prácticamente cero (0.00000000). Dado que este valor es mucho menor que el nivel de significancia común de 0.05, se concluye que la relación observada no es resultado del azar y es estadísticamente significativa.\n",
        "\n",
        "Existe una relación positiva entre la temperatura y el consumo de energía, indicada por una pendiente (slope) de 539.7704. Esto significa que, por cada unidad que aumenta la temperatura (por ejemplo, 1 grado), el consumo de energía aumenta en 539.7704 unidades.\n",
        "\n",
        "El coeficiente de correlación (r) fue de 0.4402, lo que sugiere una correlación positiva moderada. Esto implica que, si bien la temperatura influye, no es el único factor determinante en el consumo de energía.\n",
        "\n",
        "Se desarrolló un modelo más robusto incluyendo múltiples variables predictoras (Temperature, Humidity, WindSpeed, Month, Hour, DayOfWeek y Season).\n",
        "\n",
        "Coeficiente de Determinación (R 2): 0.65.\n",
        "El modelo de regresión lineal múltiple explica el 65% de la variabilidad en el consumo de energía de la Zona 1. Este valor, aunque no es perfecto, representa una mejora significativa respecto a un modelo simple.\n",
        "\n",
        "Impacto de las Variables (Coeficientes)\n",
        "Los coeficientes del modelo indican el impacto de cada variable en el consumo de energía de la Zona 1:\n",
        "\n",
        "Temperatura (Temperature): 344.2388\n",
        "La temperatura sigue siendo el predictor más fuerte y positivo entre las variables meteorológicas. Un aumento en la temperatura se asocia directamente con un mayor consumo de energía (posiblemente por el uso de aire acondicionado).\n",
        "\n",
        "Hora (Hour): 700.7741\n",
        " La hora del día tiene el mayor coeficiente positivo de todos los predictores, lo que sugiere que el patrón horario es el factor más influyente en el consumo de energía (ej. mayor actividad en horas pico).\n",
        "\n",
        "Estación  (Season_3): 1481.2920\n",
        "\n",
        "La Estación 3 (probablemente el verano, dado el contexto del dataset y la alta correlación con la temperatura) se asocia con el mayor aumento en el consumo base de energía.\n",
        "\n",
        "Fin de Semana (DayOfWeek_6): −1780.8386\n",
        "\n",
        "El coeficiente negativo y de gran magnitud para el día 6 de la semana (domingo) indica una reducción considerable en el consumo de energía durante este día, lo que es lógico para zonas de consumo asociadas a la actividad laboral o comercial.\n",
        "\n",
        "El  proceso de desarrollo confirmó una relación significativa entre la temperatura y el consumo de energía y demostró que la inclusión de variables temporales (Hour, DayOfWeek, Season) resulta en un modelo de predicción sustancialmente más preciso (R 2 =0.65).\n",
        "\n",
        "Al desarrollar los dashboard se busco  convertir los complejos resultados del modelo de regresión en una herramienta visual y accesible.\n",
        "\n",
        "El dashboard es la interfaz de comunicación que valida el trabajo técnico lo cual permitio:\n",
        "\n",
        "Permite presentar la conclusión principal del modelo (el R 2) =0.65 y la importancia de las variables temporales como Hour y Season no como números abstractos, sino como gráficos de tendencias y comparaciones fáciles de interpretar.\n",
        "\n",
        "En lugar de solo mostrar el código, se puede utilizar el dashboard para simular predicciones (What-if scenarios) validando de forma inmediata la precisión del modelo.\n",
        "\n",
        "Donde se obtuvo alto Impacto Temporal\tGráficos de barras que muestran el consumo promedio por Hora y Día de la Semana (picos en ciertas horas, caídas en el domingo).\tLa gestión de la demanda debe enfocarse en los patrones operativos diarios más que solo en el clima.\n",
        "\n",
        "La Temperatura es un Factor Significativo\tGráfico de dispersión o feature importance que muestra que la Temperatura es el predictor meteorológico dominante.\tPermite a los gestores prepararse para los aumentos de consumo relacionados con el verano (Season 3), planificando la capacidad.\n",
        "\n",
        "\n",
        "Al ser el  dashboard interactivo, permite filtrar datos por mes, temporada o día. Esto hace que el análisis sea más relevante para sus preguntas específicas y demuestra la robustez del modelo.\n",
        "\n",
        "\n",
        "Demuestra la capacidad de llevar un proyecto de ciencia de datos hasta su etapa final de producción y consumo de insights, lo cual es fundamental en el ámbito laboral.\n"
      ],
      "metadata": {
        "id": "NifodrU4hkdk"
      }
    }
  ]
}